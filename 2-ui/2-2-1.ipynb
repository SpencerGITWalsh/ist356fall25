{
 "cells": [
  {
   "cell_type": "code",
   "execution_count": 5,
   "id": "230d313a",
   "metadata": {},
   "outputs": [
    {
     "ename": "ModuleNotFoundError",
     "evalue": "No module named 'ipywidgets'",
     "output_type": "error",
     "traceback": [
      "\u001b[31m---------------------------------------------------------------------------\u001b[39m",
      "\u001b[31mModuleNotFoundError\u001b[39m                       Traceback (most recent call last)",
      "\u001b[36mCell\u001b[39m\u001b[36m \u001b[39m\u001b[32mIn[5]\u001b[39m\u001b[32m, line 2\u001b[39m\n\u001b[32m      1\u001b[39m \u001b[38;5;28;01mfrom\u001b[39;00m\u001b[38;5;250m \u001b[39m\u001b[34;01mIPython\u001b[39;00m\u001b[34;01m.\u001b[39;00m\u001b[34;01mdisplay\u001b[39;00m\u001b[38;5;250m \u001b[39m\u001b[38;5;28;01mimport\u001b[39;00m display\n\u001b[32m----> \u001b[39m\u001b[32m2\u001b[39m \u001b[38;5;28;01mfrom\u001b[39;00m\u001b[38;5;250m \u001b[39m\u001b[34;01mipywidgets\u001b[39;00m\u001b[38;5;250m \u001b[39m\u001b[38;5;28;01mimport\u001b[39;00m interact_manual\n\u001b[32m      4\u001b[39m \u001b[38;5;129m@interact_manual\u001b[39m(name = \u001b[33m'\u001b[39m\u001b[33m'\u001b[39m, major = [\u001b[33m\"\u001b[39m\u001b[33mIMT\u001b[39m\u001b[33m\"\u001b[39m, \u001b[33m\"\u001b[39m\u001b[33mIST\u001b[39m\u001b[33m\"\u001b[39m, \u001b[33m\"\u001b[39m\u001b[33mADA\u001b[39m\u001b[33m\"\u001b[39m], gpa=(\u001b[32m0.0\u001b[39m, \u001b[32m4.0\u001b[39m, \u001b[32m0.05\u001b[39m))\n\u001b[32m      5\u001b[39m \u001b[38;5;28;01mdef\u001b[39;00m\u001b[38;5;250m \u001b[39m\u001b[34monclick\u001b[39m(name, major, gpa):\n\u001b[32m      6\u001b[39m     \u001b[38;5;28;01mif\u001b[39;00m gpa<\u001b[32m1.8\u001b[39m:\n",
      "\u001b[31mModuleNotFoundError\u001b[39m: No module named 'ipywidgets'"
     ]
    }
   ],
   "source": [
    "from IPython.display import display\n",
    "from ipywidgets import interact_manual\n",
    "\n",
    "@interact_manual(name = '', major = [\"IMT\", \"IST\", \"ADA\"], gpa=(0.0, 4.0, 0.05))\n",
    "def onclick(name, major, gpa):\n",
    "    if gpa<1.8:\n",
    "        status = \"Probation\"\n",
    "    elif gpa> 3.4:\n",
    "        status = \"Dean's List\"\n",
    "    else:\n",
    "        status = \"No List\"\n",
    "    display(f\"{name} in {major} with a {gpa} is on {status}\")"
   ]
  }
 ],
 "metadata": {
  "kernelspec": {
   "display_name": "Python 3",
   "language": "python",
   "name": "python3"
  },
  "language_info": {
   "codemirror_mode": {
    "name": "ipython",
    "version": 3
   },
   "file_extension": ".py",
   "mimetype": "text/x-python",
   "name": "python",
   "nbconvert_exporter": "python",
   "pygments_lexer": "ipython3",
   "version": "3.11.0"
  }
 },
 "nbformat": 4,
 "nbformat_minor": 5
}
